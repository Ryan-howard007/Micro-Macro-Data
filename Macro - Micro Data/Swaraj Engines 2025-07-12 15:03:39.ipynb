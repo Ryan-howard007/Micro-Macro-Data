{
 "cells": [
  {
   "cell_type": "code",
   "execution_count": 0,
   "metadata": {
    "application/vnd.databricks.v1+cell": {
     "cellMetadata": {
      "byteLimit": 2048000,
      "rowLimit": 10000
     },
     "inputWidgets": {},
     "nuid": "a476542a-71b4-45dc-a1e4-e7f309928bd3",
     "showTitle": false,
     "tableResultSettingsMap": {},
     "title": ""
    }
   },
   "outputs": [],
   "source": [
    "!pip install yfinance"
   ]
  },
  {
   "cell_type": "code",
   "execution_count": 0,
   "metadata": {
    "application/vnd.databricks.v1+cell": {
     "cellMetadata": {
      "byteLimit": 2048000,
      "rowLimit": 10000
     },
     "inputWidgets": {},
     "nuid": "523be213-ce88-4c3d-8452-1a93fd44eb64",
     "showTitle": false,
     "tableResultSettingsMap": {},
     "title": ""
    }
   },
   "outputs": [],
   "source": [
    "spark.catalog.setCurrentDatabase(\"default\")"
   ]
  },
  {
   "cell_type": "code",
   "execution_count": 0,
   "metadata": {
    "application/vnd.databricks.v1+cell": {
     "cellMetadata": {
      "byteLimit": 2048000,
      "rowLimit": 10000
     },
     "inputWidgets": {},
     "nuid": "2a010e0f-7b66-4320-8e51-56a1abe7eb78",
     "showTitle": false,
     "tableResultSettingsMap": {},
     "title": ""
    }
   },
   "outputs": [],
   "source": [
    "import yfinance as yf\n",
    "import pandas as pd\n",
    "from datetime import datetime,timedelta"
   ]
  },
  {
   "cell_type": "code",
   "execution_count": 0,
   "metadata": {
    "application/vnd.databricks.v1+cell": {
     "cellMetadata": {
      "byteLimit": 2048000,
      "rowLimit": 10000
     },
     "inputWidgets": {},
     "nuid": "944b4470-08e0-43d2-a260-78fb1bf59e0f",
     "showTitle": false,
     "tableResultSettingsMap": {},
     "title": ""
    }
   },
   "outputs": [],
   "source": [
    "end=datetime.now().date()\n",
    "start=(datetime.now()-timedelta(days=1095)).date()\n",
    "sw=yf.download(\"SWARAJENG.NS\",start=start,end=end)\n",
    "sw=sw.reset_index()\n",
    "sw.head(5)\n",
    "sw.columns=[col[0] if isinstance(col,tuple) else col for col in sw.columns]\n",
    "sw=sw[['Date','Close']].copy()\n",
    "sw[\"Date\"]=sw[\"Date\"].dt.date\n",
    "sw[\"Close\"]=sw[\"Close\"].round(2)\n",
    "sw.rename(columns={'Close':'SwarajEng_Close'},inplace=True)\n",
    "sw.sort_values(by='Date',ascending=False).head(5)"
   ]
  },
  {
   "cell_type": "code",
   "execution_count": 0,
   "metadata": {
    "application/vnd.databricks.v1+cell": {
     "cellMetadata": {
      "byteLimit": 2048000,
      "rowLimit": 10000
     },
     "inputWidgets": {},
     "nuid": "acf5236f-0f92-4b61-9e47-3a391267d275",
     "showTitle": false,
     "tableResultSettingsMap": {},
     "title": ""
    }
   },
   "outputs": [],
   "source": [
    "auto=yf.download(\"^CNXAUTO\",start=start,end=end)\n",
    "auto=auto.reset_index()\n",
    "auto.columns=[col[0] if isinstance(col,tuple) else col for col in auto.columns]\n",
    "auto=auto[['Date','Close']].copy()\n",
    "auto[\"Date\"]=auto[\"Date\"].dt.date\n",
    "auto[\"Close\"]=auto[\"Close\"].round(2)\n",
    "auto.rename(columns={'Close':'CNXAUTO_Close'},inplace=True)\n",
    "auto.sort_values(by=\"Date\",ascending=False).head(10)"
   ]
  },
  {
   "cell_type": "code",
   "execution_count": 0,
   "metadata": {
    "application/vnd.databricks.v1+cell": {
     "cellMetadata": {
      "byteLimit": 2048000,
      "rowLimit": 10000
     },
     "inputWidgets": {},
     "nuid": "c3986978-8ad4-4805-9aad-0f8c7f10df4b",
     "showTitle": false,
     "tableResultSettingsMap": {},
     "title": ""
    }
   },
   "outputs": [],
   "source": [
    "Nifty=yf.download(\"^NSEI\",start=start,end=end)\n",
    "Nifty.head(5)\n",
    "Nifty=Nifty.reset_index()\n",
    "Nifty.columns=[col[0] if isinstance(col,tuple) else col for col in Nifty.columns]\n",
    "Nifty=Nifty[['Date','Close']].copy()\n",
    "Nifty[\"Date\"]=Nifty[\"Date\"].dt.date\n",
    "Nifty[\"Close\"]=Nifty[\"Close\"].round(2)\n",
    "Nifty.rename(columns={'Close':'Nifty_Close'},inplace=True)\n",
    "Nifty.sort_values(by=\"Date\",ascending=False).head(10)"
   ]
  },
  {
   "cell_type": "code",
   "execution_count": 0,
   "metadata": {
    "application/vnd.databricks.v1+cell": {
     "cellMetadata": {
      "byteLimit": 2048000,
      "rowLimit": 10000
     },
     "inputWidgets": {},
     "nuid": "c313020a-2767-4de4-ad8f-4858eb6eb21a",
     "showTitle": false,
     "tableResultSettingsMap": {},
     "title": ""
    }
   },
   "outputs": [],
   "source": [
    "merge=pd.merge(sw,auto,on='Date',how='outer')\n",
    "merge=pd.merge(merge,Nifty,on='Date',how='outer')\n",
    "merge=merge.sort_values(by='Date')\n",
    "merge=merge.ffill()\n",
    "merged=spark.createDataFrame(merge)\n",
    "merged=merged.write.option(\"overwriteSchema\",\"true\").mode(\"overwrite\").format(\"delta\").saveAsTable(\"sw_indices_merged\")"
   ]
  },
  {
   "cell_type": "code",
   "execution_count": 0,
   "metadata": {
    "application/vnd.databricks.v1+cell": {
     "cellMetadata": {
      "byteLimit": 2048000,
      "implicitDf": true,
      "rowLimit": 10000
     },
     "inputWidgets": {},
     "nuid": "55bdf401-52f6-45a2-8ec0-d1edb0fc1220",
     "showTitle": false,
     "tableResultSettingsMap": {},
     "title": ""
    }
   },
   "outputs": [],
   "source": [
    "%sql\n",
    "\n",
    "select * from sw_indices_merged\n",
    "limit 10;\n"
   ]
  },
  {
   "cell_type": "code",
   "execution_count": 0,
   "metadata": {
    "application/vnd.databricks.v1+cell": {
     "cellMetadata": {},
     "inputWidgets": {},
     "nuid": "0d902847-668c-4d4b-8c7f-6a77b5766d13",
     "showTitle": false,
     "tableResultSettingsMap": {},
     "title": ""
    }
   },
   "outputs": [],
   "source": []
  }
 ],
 "metadata": {
  "application/vnd.databricks.v1+notebook": {
   "computePreferences": null,
   "dashboards": [],
   "environmentMetadata": {
    "base_environment": "",
    "environment_version": "2"
   },
   "inputWidgetPreferences": null,
   "language": "python",
   "notebookMetadata": {
    "mostRecentlyExecutedCommandWithImplicitDF": {
     "commandId": 6157083999512988,
     "dataframes": [
      "_sqldf"
     ]
    },
    "pythonIndentUnit": 4
   },
   "notebookName": "Swaraj Engines 2025-07-12 15:03:39",
   "widgets": {}
  },
  "language_info": {
   "name": "python"
  }
 },
 "nbformat": 4,
 "nbformat_minor": 0
}
