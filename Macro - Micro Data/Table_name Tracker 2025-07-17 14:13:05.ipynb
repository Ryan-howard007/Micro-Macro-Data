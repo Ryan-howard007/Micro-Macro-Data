{
 "cells": [
  {
   "cell_type": "markdown",
   "metadata": {
    "application/vnd.databricks.v1+cell": {
     "cellMetadata": {},
     "inputWidgets": {},
     "nuid": "1341d633-18de-4639-bd34-35fd7b6815b5",
     "showTitle": false,
     "tableResultSettingsMap": {},
     "title": ""
    }
   },
   "source": [
    "1. default.sw_indices_merged -> results of Swaraj_Engines Staging details of Date + Close [Nifty_Close; Swaraj_Eng_Clost; Nifty_Auto_Close] are stored here.\n",
    "\n",
    "2. Temporary View (indices_temp) is created in order to add on Year + Month column -> to store the results in partition of Year-Month basis [Pct changes of above 3 close value along with date]. sw_indices_returns\n",
    "\n",
    "3. Dropping the Temporary View that's created."
   ]
  },
  {
   "cell_type": "code",
   "execution_count": 0,
   "metadata": {
    "application/vnd.databricks.v1+cell": {
     "cellMetadata": {},
     "inputWidgets": {},
     "nuid": "33eb3f4f-cdd9-4c4d-8646-4321e8ba78d9",
     "showTitle": false,
     "tableResultSettingsMap": {},
     "title": ""
    }
   },
   "outputs": [],
   "source": []
  }
 ],
 "metadata": {
  "application/vnd.databricks.v1+notebook": {
   "computePreferences": null,
   "dashboards": [],
   "environmentMetadata": {
    "base_environment": "",
    "environment_version": "2"
   },
   "inputWidgetPreferences": null,
   "language": "python",
   "notebookMetadata": {
    "pythonIndentUnit": 4
   },
   "notebookName": "Table_name Tracker 2025-07-17 14:13:05",
   "widgets": {}
  },
  "language_info": {
   "name": "python"
  }
 },
 "nbformat": 4,
 "nbformat_minor": 0
}
