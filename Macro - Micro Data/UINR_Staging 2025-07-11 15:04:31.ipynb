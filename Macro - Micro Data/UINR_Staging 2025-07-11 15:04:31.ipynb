{
 "cells": [
  {
   "cell_type": "code",
   "execution_count": 0,
   "metadata": {
    "application/vnd.databricks.v1+cell": {
     "cellMetadata": {
      "byteLimit": 2048000,
      "rowLimit": 10000
     },
     "inputWidgets": {},
     "nuid": "d9ea80b9-713c-400c-90a8-f254d6920cdb",
     "showTitle": false,
     "tableResultSettingsMap": {},
     "title": ""
    }
   },
   "outputs": [],
   "source": [
    "!pip install yfinance"
   ]
  },
  {
   "cell_type": "code",
   "execution_count": 0,
   "metadata": {
    "application/vnd.databricks.v1+cell": {
     "cellMetadata": {
      "byteLimit": 2048000,
      "rowLimit": 10000
     },
     "inputWidgets": {},
     "nuid": "e8c30251-a368-4c45-8a32-3a087b518ca0",
     "showTitle": false,
     "tableResultSettingsMap": {},
     "title": ""
    }
   },
   "outputs": [],
   "source": [
    "spark.catalog.setCurrentDatabase(\"default\")"
   ]
  },
  {
   "cell_type": "code",
   "execution_count": 0,
   "metadata": {
    "application/vnd.databricks.v1+cell": {
     "cellMetadata": {
      "byteLimit": 2048000,
      "rowLimit": 10000
     },
     "inputWidgets": {},
     "nuid": "069a5f06-5e9d-43cb-a028-65284be3db2d",
     "showTitle": false,
     "tableResultSettingsMap": {},
     "title": ""
    }
   },
   "outputs": [],
   "source": [
    "import yfinance as yf\n",
    "import pandas as pd\n",
    "from datetime import datetime, timedelta\n",
    "\n",
    "start=datetime.now()-timedelta(days=730)\n",
    "end=datetime.now()\n",
    "USDINR=yf.download(\"USDINR=X\",start=start,end=end)\n",
    "USDINR=USDINR.reset_index()\n",
    "DXY=yf.download(\"DX-Y.NYB\",start=start,end=end)\n",
    "DXY=DXY.reset_index()\n",
    "DXY=DXY[['Date','Close']].copy()\n",
    "DXY.columns = [col[0] if isinstance(col, tuple) else col for col in DXY.columns]\n",
    "DXY.rename(columns={'Close':'DXYClose'},inplace=True)\n",
    "USDINR_Filtered=USDINR[['Date','Close']].copy()\n",
    "USDINR_Filtered.columns = [col[0] if isinstance(col, tuple) else col for col in USDINR_Filtered.columns]\n",
    "USDINR_Filtered.rename(columns={'Close':'USDINRClose'},inplace=True)\n",
    "print(USDINR_Filtered.sort_values(by='Date',ascending=False).head(5))\n",
    "merge=pd.merge(USDINR_Filtered,DXY,on='Date',how='outer')\n",
    "merge=merge.sort_values(by='Date')\n",
    "merge=merge.ffill()\n",
    "merged=spark.createDataFrame(merge)\n",
    "merged.write.mode(\"overwrite\").format('delta').saveAsTable(\"USDINR_DXY_\")\n",
    "#DXY=spark.createDataFrame(DXY)\n",
    "#DXY.write.mode(\"overwrite\").format('delta').saveAsTable(\"DXY_\")"
   ]
  },
  {
   "cell_type": "code",
   "execution_count": 0,
   "metadata": {
    "application/vnd.databricks.v1+cell": {
     "cellMetadata": {
      "byteLimit": 2048000,
      "implicitDf": true,
      "rowLimit": 10000
     },
     "inputWidgets": {},
     "nuid": "a65cc467-d969-4c8f-a6a9-ac1659058d48",
     "showTitle": false,
     "tableResultSettingsMap": {},
     "title": ""
    }
   },
   "outputs": [],
   "source": [
    "%sql\n",
    "select * from USDINR_DXY_\n",
    "order by Date desc\n",
    "limit 10;"
   ]
  },
  {
   "cell_type": "code",
   "execution_count": 0,
   "metadata": {
    "application/vnd.databricks.v1+cell": {
     "cellMetadata": {
      "byteLimit": 2048000,
      "rowLimit": 10000
     },
     "inputWidgets": {},
     "nuid": "2a466c93-11a6-4a01-af30-c2716dee5604",
     "showTitle": false,
     "tableResultSettingsMap": {},
     "title": ""
    }
   },
   "outputs": [],
   "source": [
    "spark.sql(\"SHOW TABLES IN default\").show()"
   ]
  },
  {
   "cell_type": "code",
   "execution_count": 0,
   "metadata": {
    "application/vnd.databricks.v1+cell": {
     "cellMetadata": {},
     "inputWidgets": {},
     "nuid": "0b6754cf-eee1-4170-bcd1-288709896d27",
     "showTitle": false,
     "tableResultSettingsMap": {},
     "title": ""
    }
   },
   "outputs": [],
   "source": []
  }
 ],
 "metadata": {
  "application/vnd.databricks.v1+notebook": {
   "computePreferences": null,
   "dashboards": [],
   "environmentMetadata": {
    "base_environment": "",
    "environment_version": "2"
   },
   "inputWidgetPreferences": null,
   "language": "python",
   "notebookMetadata": {
    "mostRecentlyExecutedCommandWithImplicitDF": {
     "commandId": 5910260825079377,
     "dataframes": [
      "_sqldf"
     ]
    },
    "pythonIndentUnit": 4
   },
   "notebookName": "UINR_Staging 2025-07-11 15:04:31",
   "widgets": {}
  },
  "language_info": {
   "name": "python"
  }
 },
 "nbformat": 4,
 "nbformat_minor": 0
}
