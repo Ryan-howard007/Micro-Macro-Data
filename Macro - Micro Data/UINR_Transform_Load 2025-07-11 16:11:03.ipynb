{
 "cells": [
  {
   "cell_type": "code",
   "execution_count": 0,
   "metadata": {
    "application/vnd.databricks.v1+cell": {
     "cellMetadata": {
      "byteLimit": 2048000,
      "rowLimit": 10000
     },
     "inputWidgets": {},
     "nuid": "b9fdf204-f459-427c-8994-5caed966f6c3",
     "showTitle": false,
     "tableResultSettingsMap": {},
     "title": ""
    }
   },
   "outputs": [],
   "source": [
    "from pyspark.sql import functions as F\n",
    "df=spark.table(\"default.USDINR_DXY_\")\n",
    "initial_value=df.orderBy('Date').limit(1).collect()[0]\n",
    "UINR_in=initial_value['USDINRClose']\n",
    "DXY_in=initial_value['DXYClose']\n",
    "#UINR=UINR.select(\"*\",F.round((F.col('USDINRClose')-F.lit(initial_value))*100/F.lit(initial_value),2).alias('pct_change_12M'))\n",
    "df = df.withColumn(\n",
    "    \"pct_change_USDINRC_12M\",\n",
    "    F.round(((F.col(\"USDINRClose\") - F.lit(UINR_in)) * 100 / F.lit(UINR_in)), 2)\n",
    ").withColumn(\n",
    "    \"pct_change_DXY_12M\",\n",
    "    F.round(((F.col(\"DXYClose\") - F.lit(DXY_in)) * 100 / F.lit(DXY_in)), 2)\n",
    ")\n",
    "df.write.option(\"mergeSchema\",\"true\").mode(\"overwrite\").format(\"delta\").saveAsTable(\"USDINR_DXY_Pct\")\n",
    "df.show(5)            "
   ]
  },
  {
   "cell_type": "code",
   "execution_count": 0,
   "metadata": {
    "application/vnd.databricks.v1+cell": {
     "cellMetadata": {
      "byteLimit": 2048000,
      "implicitDf": true,
      "rowLimit": 10000
     },
     "inputWidgets": {},
     "nuid": "633a54b5-8b46-48a0-af20-6d2facc91e7f",
     "showTitle": false,
     "tableResultSettingsMap": {
      "0": {
       "dataGridStateBlob": "{\"version\":1,\"tableState\":{\"columnPinning\":{\"left\":[\"#row_number#\"],\"right\":[]},\"columnSizing\":{},\"columnVisibility\":{}},\"settings\":{\"columns\":{}},\"syncTimestamp\":1752247418454}",
       "filterBlob": null,
       "queryPlanFiltersBlob": null,
       "tableResultIndex": 0
      }
     },
     "title": ""
    }
   },
   "outputs": [],
   "source": [
    "%sql\n",
    "select * from USDINR_DXY_Pct;"
   ]
  },
  {
   "cell_type": "code",
   "execution_count": 0,
   "metadata": {
    "application/vnd.databricks.v1+cell": {
     "cellMetadata": {
      "byteLimit": 2048000,
      "implicitDf": true,
      "rowLimit": 10000
     },
     "inputWidgets": {},
     "nuid": "021f2241-a5d6-4f7c-93bf-51c3eba6c307",
     "showTitle": false,
     "tableResultSettingsMap": {},
     "title": ""
    }
   },
   "outputs": [],
   "source": [
    "%sql\n",
    "--Going with Partitioning of Table for better performance and Insert.\n",
    "CREATE OR REPLACE VIEW USDINR_DXY_TEMP \n",
    "as \n",
    "select *,year(Date) AS year, month(Date) as month \n",
    "from USDINR_DXY_Pct;"
   ]
  },
  {
   "cell_type": "code",
   "execution_count": 0,
   "metadata": {
    "application/vnd.databricks.v1+cell": {
     "cellMetadata": {
      "byteLimit": 2048000,
      "implicitDf": true,
      "rowLimit": 10000
     },
     "inputWidgets": {},
     "nuid": "de56de68-6c4e-46dd-912f-6d44efe662a7",
     "showTitle": false,
     "tableResultSettingsMap": {},
     "title": ""
    }
   },
   "outputs": [],
   "source": [
    "%sql\n",
    "--Creating or replaced partition table\n",
    "CREATE OR REPLACE TABLE USDINR_DXY_partitioned\n",
    "USING delta\n",
    "PARTITIONED BY (year, month)\n",
    "AS\n",
    "SELECT * FROM USDINR_DXY_TEMP;"
   ]
  },
  {
   "cell_type": "code",
   "execution_count": 0,
   "metadata": {
    "application/vnd.databricks.v1+cell": {
     "cellMetadata": {
      "byteLimit": 2048000,
      "implicitDf": true,
      "rowLimit": 10000
     },
     "inputWidgets": {},
     "nuid": "8cbd7cc0-1571-4307-8bd2-d629464f5f52",
     "showTitle": false,
     "tableResultSettingsMap": {},
     "title": ""
    }
   },
   "outputs": [],
   "source": [
    "\n",
    "%sql\n",
    "--Dropping the staging table\n",
    "drop table if exists USDINR_DXY_;\n",
    "\n",
    "--Dropping the other intermediate pct table\n",
    "drop table if exists USDINR_DXY_Pct;\n",
    "\n",
    "--Dropping the temp table\n",
    "drop view if exists USDINR_DXY_TEMP;"
   ]
  },
  {
   "cell_type": "code",
   "execution_count": 0,
   "metadata": {
    "application/vnd.databricks.v1+cell": {
     "cellMetadata": {
      "byteLimit": 2048000,
      "implicitDf": true,
      "rowLimit": 10000
     },
     "inputWidgets": {},
     "nuid": "273a59af-6e35-4ff8-9564-25e7efdf7520",
     "showTitle": false,
     "tableResultSettingsMap": {},
     "title": ""
    }
   },
   "outputs": [],
   "source": [
    "%sql\n",
    "--Checking top 100 data\n",
    "select * from USDINR_DXY_partitioned\n",
    "order by Date desc\n",
    "limit 100;"
   ]
  },
  {
   "cell_type": "code",
   "execution_count": 0,
   "metadata": {
    "application/vnd.databricks.v1+cell": {
     "cellMetadata": {},
     "inputWidgets": {},
     "nuid": "95fcf01a-6df3-4d8c-b5d8-2a81db96e4ef",
     "showTitle": false,
     "tableResultSettingsMap": {},
     "title": ""
    }
   },
   "outputs": [],
   "source": []
  }
 ],
 "metadata": {
  "application/vnd.databricks.v1+notebook": {
   "computePreferences": null,
   "dashboards": [],
   "environmentMetadata": {
    "base_environment": "",
    "environment_version": "2"
   },
   "inputWidgetPreferences": null,
   "language": "python",
   "notebookMetadata": {
    "mostRecentlyExecutedCommandWithImplicitDF": {
     "commandId": 7383137842788408,
     "dataframes": [
      "_sqldf"
     ]
    },
    "pythonIndentUnit": 4
   },
   "notebookName": "UINR_Transform_Load 2025-07-11 16:11:03",
   "widgets": {}
  },
  "language_info": {
   "name": "python"
  }
 },
 "nbformat": 4,
 "nbformat_minor": 0
}
