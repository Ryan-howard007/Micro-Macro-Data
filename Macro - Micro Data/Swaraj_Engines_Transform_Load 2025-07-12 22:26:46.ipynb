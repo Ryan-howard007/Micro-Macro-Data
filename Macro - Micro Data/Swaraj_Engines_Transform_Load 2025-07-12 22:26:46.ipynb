{
 "cells": [
  {
   "cell_type": "code",
   "execution_count": 0,
   "metadata": {
    "application/vnd.databricks.v1+cell": {
     "cellMetadata": {
      "byteLimit": 2048000,
      "rowLimit": 10000
     },
     "inputWidgets": {},
     "nuid": "d9f2d5ab-a600-4ec4-834a-3eed68e2f27c",
     "showTitle": false,
     "tableResultSettingsMap": {},
     "title": ""
    }
   },
   "outputs": [],
   "source": [
    "from pyspark.sql import functions as F\n",
    "df=spark.table(\"default.sw_indices_merged\")\n",
    "initial_value=df.orderBy(\"Date\").limit(1).collect()[0]\n",
    "N50c=initial_value[\"Nifty_Close\"]\n",
    "SEc=initial_value[\"SwarajEng_Close\"]\n",
    "Autoc=initial_value[\"CNXAUTO_Close\"]\n",
    "df=df.withColumn(\"Nifty_Return\",F.round((F.col(\"Nifty_Close\")-F.lit(N50c))*100.00/F.lit(N50c),2)).withColumn(\"SwarajEng_Return\",F.round((F.col(\"SwarajEng_Close\")-F.lit(SEc))*100.00/SEc,2)).withColumn(\"CNXAUTO_Return\",F.round((F.col(\"CNXAUTO_Close\")-F.lit(Autoc))*100.00/F.lit(Autoc),2))\n",
    "df.write.option(\"overwriteSchema\",\"true\").mode(\"overwrite\").saveAsTable(\"sw_indices_returns\")"
   ]
  },
  {
   "cell_type": "code",
   "execution_count": 0,
   "metadata": {
    "application/vnd.databricks.v1+cell": {
     "cellMetadata": {
      "byteLimit": 2048000,
      "rowLimit": 10000
     },
     "inputWidgets": {},
     "nuid": "c8322a8e-ff7d-4b4b-9157-7cff73ec7e90",
     "showTitle": false,
     "tableResultSettingsMap": {},
     "title": ""
    }
   },
   "outputs": [],
   "source": [
    "df.show(10)"
   ]
  },
  {
   "cell_type": "code",
   "execution_count": 0,
   "metadata": {
    "application/vnd.databricks.v1+cell": {
     "cellMetadata": {
      "byteLimit": 2048000,
      "implicitDf": true,
      "rowLimit": 10000
     },
     "inputWidgets": {},
     "nuid": "6a434667-7e2f-4f70-aca0-67b0e90739c4",
     "showTitle": false,
     "tableResultSettingsMap": {},
     "title": ""
    }
   },
   "outputs": [],
   "source": [
    "%sql\n",
    "-- Creating view for partition creation of a table\n",
    "create or replace view Indices_temp\n",
    "as \n",
    "select *,year(Date) as year,month(Date) as month\n",
    "from sw_indices_returns;"
   ]
  },
  {
   "cell_type": "code",
   "execution_count": 0,
   "metadata": {
    "application/vnd.databricks.v1+cell": {
     "cellMetadata": {
      "byteLimit": 2048000,
      "implicitDf": true,
      "rowLimit": 10000
     },
     "inputWidgets": {},
     "nuid": "6980f0ab-b98e-4632-ae6c-883fd1124838",
     "showTitle": false,
     "tableResultSettingsMap": {},
     "title": ""
    }
   },
   "outputs": [],
   "source": [
    "%sql\n",
    "-- Creating a partition table\n",
    "create or replace table Indices\n",
    "using delta\n",
    "partitioned by (year,month)\n",
    "as \n",
    "select * from Indices_temp;"
   ]
  },
  {
   "cell_type": "code",
   "execution_count": 0,
   "metadata": {
    "application/vnd.databricks.v1+cell": {
     "cellMetadata": {
      "byteLimit": 2048000,
      "implicitDf": true,
      "rowLimit": 10000
     },
     "inputWidgets": {},
     "nuid": "4a6ddc0d-b9aa-4fce-a01c-297ec75c76a0",
     "showTitle": false,
     "tableResultSettingsMap": {},
     "title": ""
    }
   },
   "outputs": [],
   "source": [
    "%sql\n",
    "\n",
    "-- Drop staging table\n",
    "--drop table if exists default.sw_indices_merged;\n",
    "\n",
    "-- Drop table after the load\n",
    "drop view if exists Indices_temp;\n",
    "\n",
    "drop table if exists sw_indices_returns;"
   ]
  },
  {
   "cell_type": "code",
   "execution_count": 0,
   "metadata": {
    "application/vnd.databricks.v1+cell": {
     "cellMetadata": {
      "byteLimit": 2048000,
      "implicitDf": true,
      "rowLimit": 10000
     },
     "inputWidgets": {},
     "nuid": "0a58e75d-94f6-4dba-86ad-800ab2aeeade",
     "showTitle": false,
     "tableResultSettingsMap": {},
     "title": ""
    }
   },
   "outputs": [],
   "source": [
    "%sql\n",
    "select Date,Nifty_Return,SwarajEng_Return,CNXAUTO_Return \n",
    "from Indices\n",
    "order by Date desc\n",
    "limit 10;"
   ]
  },
  {
   "cell_type": "code",
   "execution_count": 0,
   "metadata": {
    "application/vnd.databricks.v1+cell": {
     "cellMetadata": {
      "byteLimit": 2048000,
      "rowLimit": 10000
     },
     "inputWidgets": {},
     "nuid": "e4cac92f-35d9-4a79-8103-05188be43bfa",
     "showTitle": false,
     "tableResultSettingsMap": {},
     "title": ""
    }
   },
   "outputs": [],
   "source": [
    "spark.sql(\"SHOW TABLES IN default\").show()"
   ]
  },
  {
   "cell_type": "code",
   "execution_count": 0,
   "metadata": {
    "application/vnd.databricks.v1+cell": {
     "cellMetadata": {
      "byteLimit": 2048000,
      "rowLimit": 10000
     },
     "inputWidgets": {},
     "nuid": "b3689843-75de-45ac-98a8-775c962d4560",
     "showTitle": false,
     "tableResultSettingsMap": {},
     "title": ""
    }
   },
   "outputs": [],
   "source": [
    "spark.catalog.listTables(\"default\")\n"
   ]
  },
  {
   "cell_type": "code",
   "execution_count": 0,
   "metadata": {
    "application/vnd.databricks.v1+cell": {
     "cellMetadata": {},
     "inputWidgets": {},
     "nuid": "850f2eeb-e7d2-4909-9005-7e2443df6ecc",
     "showTitle": false,
     "tableResultSettingsMap": {},
     "title": ""
    }
   },
   "outputs": [],
   "source": []
  }
 ],
 "metadata": {
  "application/vnd.databricks.v1+notebook": {
   "computePreferences": null,
   "dashboards": [],
   "environmentMetadata": {
    "base_environment": "",
    "environment_version": "2"
   },
   "inputWidgetPreferences": null,
   "language": "python",
   "notebookMetadata": {
    "mostRecentlyExecutedCommandWithImplicitDF": {
     "commandId": 8691135819038879,
     "dataframes": [
      "_sqldf"
     ]
    },
    "pythonIndentUnit": 4
   },
   "notebookName": "Swaraj_Engines_Transform_Load 2025-07-12 22:26:46",
   "widgets": {}
  },
  "language_info": {
   "name": "python"
  }
 },
 "nbformat": 4,
 "nbformat_minor": 0
}
