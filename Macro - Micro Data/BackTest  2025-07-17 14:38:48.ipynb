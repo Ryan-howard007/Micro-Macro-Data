{
 "cells": [
  {
   "cell_type": "code",
   "execution_count": 0,
   "metadata": {
    "application/vnd.databricks.v1+cell": {
     "cellMetadata": {
      "byteLimit": 2048000,
      "rowLimit": 10000
     },
     "inputWidgets": {},
     "nuid": "c9b2008b-4427-46f7-929c-10d8714ba1e9",
     "showTitle": false,
     "tableResultSettingsMap": {},
     "title": ""
    }
   },
   "outputs": [],
   "source": [
    "import pandas as pd\n",
    "import numpy as np"
   ]
  },
  {
   "cell_type": "code",
   "execution_count": 0,
   "metadata": {
    "application/vnd.databricks.v1+cell": {
     "cellMetadata": {
      "byteLimit": 2048000,
      "rowLimit": 10000
     },
     "inputWidgets": {},
     "nuid": "fb1f5fa3-7e6f-4e00-a44c-fd8e2c780553",
     "showTitle": false,
     "tableResultSettingsMap": {},
     "title": ""
    }
   },
   "outputs": [],
   "source": [
    "df_bt=spark.table(\"default.sw_indices_merged\").toPandas() #Spark DF to Pandas DF\n",
    "df_bt[\"Date\"]=pd.to_datetime(df_bt['Date']) #Convert to datetime\n",
    "df_bt[\"Date\"]=df_bt[\"Date\"].dt.date\n",
    "df_bt=df_bt.sort_values(\"Date\").reset_index(drop=True) #Sort values based on Date ; Convert index to column\n",
    "df_bt.head(5)"
   ]
  },
  {
   "cell_type": "code",
   "execution_count": 0,
   "metadata": {
    "application/vnd.databricks.v1+cell": {
     "cellMetadata": {
      "byteLimit": 2048000,
      "rowLimit": 10000
     },
     "inputWidgets": {},
     "nuid": "b6a1470a-a3b7-4e60-a92c-648888fdb1cc",
     "showTitle": false,
     "tableResultSettingsMap": {},
     "title": ""
    }
   },
   "outputs": [],
   "source": [
    "df_bt[\"SMA_50\"]=df_bt[\"SwarajEng_Close\"].rolling(window=50).mean().round(2) #SMA50\n",
    "df_bt[\"SMA_200\"]=df_bt[\"SwarajEng_Close\"].rolling(window=200).mean().round(2) #SMA200\n",
    "df_bt[\"signal\"]=0 #Signal 0 by default\n",
    "df_bt.loc[(df_bt[\"SMA_50\"]>df_bt[\"SMA_200\"]) & (df_bt[\"SMA_50\"].shift(1)<df_bt[\"SMA_200\"].shift(1)),\"signal\"]=1 #If crosses SMA200 then 1\n",
    "df_bt[\"position\"]=np.where(df_bt[\"SMA_50\"]>df_bt[\"SMA_200\"],1,0)\n",
    "\n",
    "df_bt[\"daily_return\"]=df_bt[\"SwarajEng_Close\"].pct_change()\n",
    "df_bt[\"cum_daily_return\"]=(df_bt[\"daily_return\"]+1).cumprod()\n",
    "df_bt[\"cum_daily_return\"]=(df_bt[\"cum_daily_return\"]-1)*100\n",
    "\n",
    "#Days when we entered the trade/investment\n",
    "\n",
    "df_bt[\"strategy_return_sma\"]=df_bt[\"daily_return\"]*df_bt[\"position\"]\n",
    "df_bt[\"cum_strategy_return_sma\"]=(df_bt[\"strategy_return_sma\"]+1).cumprod()\n",
    "df_bt[\"cum_strategy_return_sma\"]=((df_bt[\"cum_strategy_return_sma\"]-1)*100).round(2)\n",
    "\n",
    "#Days when we didn't even enter\n",
    "\n",
    "df_bt[\"missed_return_sma\"]=np.where(df_bt[\"position\"]==0,df_bt[\"daily_return\"],0)\n",
    "df_bt[\"cum_missed_return_sma\"]=(df_bt[\"missed_return_sma\"]+1).cumprod()\n",
    "df_bt[\"cum_missed_return_sma\"]=((df_bt[\"cum_missed_return_sma\"]-1)*100).round(2)"
   ]
  },
  {
   "cell_type": "code",
   "execution_count": 0,
   "metadata": {
    "application/vnd.databricks.v1+cell": {
     "cellMetadata": {
      "byteLimit": 2048000,
      "rowLimit": 10000
     },
     "inputWidgets": {},
     "nuid": "7407bac0-d186-42ba-9cd0-e119994fda39",
     "showTitle": false,
     "tableResultSettingsMap": {},
     "title": ""
    }
   },
   "outputs": [],
   "source": [
    "# Detect Max_Drawdown\n",
    "df_bt[\"peak\"]=df_bt[\"SwarajEng_Close\"].cummax()\n",
    "df_bt[\"drawdown\"] = (df_bt[\"SwarajEng_Close\"] - df_bt[\"peak\"]) / df_bt[\"peak\"]\n",
    "max_drawdown = df_bt[\"drawdown\"].min().round(4) * 100\n",
    "print(f\"Max drawdown is {max_drawdown:.2f}%\")\n"
   ]
  },
  {
   "cell_type": "code",
   "execution_count": 0,
   "metadata": {
    "application/vnd.databricks.v1+cell": {
     "cellMetadata": {
      "byteLimit": 2048000,
      "rowLimit": 10000
     },
     "inputWidgets": {},
     "nuid": "dba75a7c-72da-4d9b-a105-b1b25d0a0871",
     "showTitle": false,
     "tableResultSettingsMap": {},
     "title": ""
    }
   },
   "outputs": [],
   "source": [
    "#CAGR\n",
    "start_value=df_bt[\"SwarajEng_Close\"].iloc[0]\n",
    "end_value=df_bt[\"SwarajEng_Close\"].iloc[-1] \n",
    "n_days=(df_bt[\"Date\"].iloc[-1]-df_bt[\"Date\"].iloc[0]).days #No: of days\n",
    "n_years=n_days/365.25\n",
    "CAGR=(((end_value/start_value)**(1/n_years))-1)*100  #Typically we have just for 2 years\n",
    "print(f\"CAGR for the Swaraj in last 2 years is: {CAGR:.2f} %\")"
   ]
  },
  {
   "cell_type": "code",
   "execution_count": 0,
   "metadata": {
    "application/vnd.databricks.v1+cell": {
     "cellMetadata": {
      "byteLimit": 2048000,
      "rowLimit": 10000
     },
     "inputWidgets": {},
     "nuid": "876d2ca6-4897-4556-a9fe-c235f8251895",
     "showTitle": false,
     "tableResultSettingsMap": {},
     "title": ""
    }
   },
   "outputs": [],
   "source": [
    "#Calmar's Ratio \n",
    "Calmar_ratio=CAGR/abs(max_drawdown)\n",
    "print(f\"Ratio for the Swaraj {Calmar_ratio:.2f}\")"
   ]
  },
  {
   "cell_type": "code",
   "execution_count": 0,
   "metadata": {
    "application/vnd.databricks.v1+cell": {
     "cellMetadata": {
      "byteLimit": 2048000,
      "rowLimit": 10000
     },
     "inputWidgets": {},
     "nuid": "e32f4dfd-202a-48f5-aa8e-02420cb20432",
     "showTitle": false,
     "tableResultSettingsMap": {},
     "title": ""
    }
   },
   "outputs": [],
   "source": [
    "#Bollinger Band\n",
    "df_bt[\"middle_band\"]=df_bt[\"SwarajEng_Close\"].rolling(window=20).mean()\n",
    "df_bt[\"upper_band\"]=df_bt[\"middle_band\"]+(2*df_bt[\"SwarajEng_Close\"].rolling(window=20).std())\n",
    "df_bt[\"lower_band\"]=df_bt[\"middle_band\"]-(2*df_bt[\"SwarajEng_Close\"].rolling(window=20).std())\n",
    "\n",
    "df_bt[\"signal_bb\"]=0\n",
    "df_bt.loc[(df_bt[\"SwarajEng_Close\"]>df_bt[\"lower_band\"]) & (df_bt[\"SwarajEng_Close\"].shift(1)<=df_bt[\"upper_band\"].shift(1)),\"signal_bb\"]=1\n",
    "\n",
    "df_bt[\"position_bb\"]=np.where(df_bt[\"SwarajEng_Close\"]>df_bt[\"lower_band\"],1,0)\n",
    "\n",
    "df_bt[\"strategy_returns_bb\"]=df_bt[\"daily_return\"]*df_bt[\"position_bb\"]\n",
    "df_bt[\"cum_strategy_returns_bb\"]=(1+df_bt[\"strategy_returns_bb\"]).cumprod()\n",
    "df_bt[\"cum_strategy_returns_bb\"] = ((df_bt[\"cum_strategy_returns_bb\"] - 1) * 100).round(2)\n",
    "df_bt[\"missed_return_bb\"] = np.where(df_bt[\"position_bb\"] == 0, df_bt[\"daily_return\"], 0)\n",
    "df_bt[\"cum_missed_return_bb\"] = (1 + df_bt[\"missed_return_bb\"]).cumprod()\n",
    "df_bt[\"cum_missed_return_bb\"] = ((df_bt[\"cum_missed_return_bb\"] - 1) * 100).round(2)"
   ]
  },
  {
   "cell_type": "code",
   "execution_count": 0,
   "metadata": {
    "application/vnd.databricks.v1+cell": {
     "cellMetadata": {
      "byteLimit": 2048000,
      "rowLimit": 10000
     },
     "inputWidgets": {},
     "nuid": "4f2a4416-dd59-4406-9565-98a720977d84",
     "showTitle": false,
     "tableResultSettingsMap": {},
     "title": ""
    }
   },
   "outputs": [],
   "source": [
    "from pyspark.sql import functions as F\n",
    "spark_df=spark.createDataFrame(df_bt)\n",
    "spark_df.write.option(\"overwriteSchema\",\"true\").mode(\"overwrite\").format(\"delta\").saveAsTable(\"default.sw_strategy\")"
   ]
  },
  {
   "cell_type": "code",
   "execution_count": 0,
   "metadata": {
    "application/vnd.databricks.v1+cell": {
     "cellMetadata": {
      "byteLimit": 2048000,
      "implicitDf": true,
      "rowLimit": 10000
     },
     "inputWidgets": {},
     "nuid": "10bcad34-faad-4e75-9b2c-1140dfdd36db",
     "showTitle": false,
     "tableResultSettingsMap": {
      "0": {
       "dataGridStateBlob": "{\"version\":1,\"tableState\":{\"columnPinning\":{\"left\":[\"#row_number#\"],\"right\":[]},\"columnSizing\":{},\"columnVisibility\":{}},\"settings\":{\"columns\":{}},\"syncTimestamp\":1752774921776}",
       "filterBlob": null,
       "queryPlanFiltersBlob": null,
       "tableResultIndex": 0
      }
     },
     "title": ""
    }
   },
   "outputs": [],
   "source": [
    "%sql\n",
    "select *\n",
    "from sw_strategy\n",
    "order by `Date` desc\n",
    "limit 500"
   ]
  },
  {
   "cell_type": "code",
   "execution_count": 0,
   "metadata": {
    "application/vnd.databricks.v1+cell": {
     "cellMetadata": {
      "byteLimit": 2048000,
      "rowLimit": 10000
     },
     "inputWidgets": {},
     "nuid": "22ed5253-d036-4138-b656-7acddc83dfe3",
     "showTitle": false,
     "tableResultSettingsMap": {},
     "title": ""
    }
   },
   "outputs": [],
   "source": []
  }
 ],
 "metadata": {
  "application/vnd.databricks.v1+notebook": {
   "computePreferences": null,
   "dashboards": [],
   "environmentMetadata": {
    "base_environment": "",
    "environment_version": "2"
   },
   "inputWidgetPreferences": null,
   "language": "python",
   "notebookMetadata": {
    "mostRecentlyExecutedCommandWithImplicitDF": {
     "commandId": 4545754480834839,
     "dataframes": [
      "_sqldf"
     ]
    },
    "pythonIndentUnit": 4
   },
   "notebookName": "BackTest  2025-07-17 14:38:48",
   "widgets": {}
  },
  "language_info": {
   "name": "python"
  }
 },
 "nbformat": 4,
 "nbformat_minor": 0
}
